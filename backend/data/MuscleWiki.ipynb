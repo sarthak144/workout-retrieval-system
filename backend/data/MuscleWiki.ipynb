{
 "cells": [
  {
   "cell_type": "code",
   "execution_count": 158,
   "id": "optional-karaoke",
   "metadata": {},
   "outputs": [
    {
     "name": "stdout",
     "output_type": "stream",
     "text": [
      "The autotime extension is already loaded. To reload it, use:\n",
      "  %reload_ext autotime\n",
      "time: 4.5 ms (started: 2022-04-14 03:35:18 +05:30)\n"
     ]
    }
   ],
   "source": [
    "%load_ext autotime\n",
    "import requests\n",
    "from bs4 import BeautifulSoup\n",
    "import bs4\n",
    "import json\n",
    "import re"
   ]
  },
  {
   "cell_type": "code",
   "execution_count": 159,
   "id": "friendly-heater",
   "metadata": {},
   "outputs": [
    {
     "name": "stdout",
     "output_type": "stream",
     "text": [
      "time: 470 µs (started: 2022-04-14 03:35:19 +05:30)\n"
     ]
    }
   ],
   "source": [
    "url=\"https://musclewiki.com/\"\n",
    "url2=\"https://musclewiki.com/static/js/muscle.js\""
   ]
  },
  {
   "cell_type": "code",
   "execution_count": 160,
   "id": "empty-vulnerability",
   "metadata": {},
   "outputs": [
    {
     "name": "stdout",
     "output_type": "stream",
     "text": [
      "Traps https://musclewiki.com/Barbell/Male/Traps\n",
      "Traps https://musclewiki.com/Dumbbells/Male/Traps\n",
      "Traps https://musclewiki.com/Stretches/Male/Traps\n",
      "Traps https://musclewiki.com/Cables/Male/Traps\n",
      "Traps https://musclewiki.com/Kettlebells/Male/Traps\n",
      "Traps https://musclewiki.com/Bodyweight/Male/Traps\n",
      "Shoulders https://musclewiki.com/Stretches/Male/Shoulders\n",
      "Shoulders https://musclewiki.com/Barbell/Male/Shoulders\n",
      "Shoulders https://musclewiki.com/Kettlebells/Male/Shoulders\n",
      "Shoulders https://musclewiki.com/Dumbbells/Male/Shoulders\n",
      "Shoulders https://musclewiki.com/Cables/Male/Shoulders\n",
      "Shoulders https://musclewiki.com/Bodyweight/Male/Shoulders\n",
      "Chest https://musclewiki.com/Dumbbells/Male/Chest\n",
      "Chest https://musclewiki.com/Stretches/Male/Chest\n",
      "Chest https://musclewiki.com/Bodyweight/Male/Chest\n",
      "Chest https://musclewiki.com/Kettlebells/Male/Chest\n",
      "Chest https://musclewiki.com/Barbell/Male/Chest\n",
      "Chest https://musclewiki.com/Cables/Male/Chest\n",
      "Biceps https://musclewiki.com/Stretches/Male/Biceps\n",
      "Biceps https://musclewiki.com/Bodyweight/Male/Biceps\n",
      "Biceps https://musclewiki.com/Barbell/Male/Biceps\n",
      "Biceps https://musclewiki.com/Cables/Male/Biceps\n",
      "Biceps https://musclewiki.com/Kettlebells/Male/Biceps\n",
      "Biceps https://musclewiki.com/Dumbbells/Male/Biceps\n",
      "Forearms https://musclewiki.com/Barbell/Male/Forearms\n",
      "Forearms https://musclewiki.com/Stretches/Male/Forearms\n",
      "Forearms https://musclewiki.com/Cables/Male/Forearms\n",
      "Forearms https://musclewiki.com/Bodyweight/Male/Forearms\n",
      "Forearms https://musclewiki.com/Dumbbells/Male/Forearms\n",
      "Forearms https://musclewiki.com/Kettlebells/Male/Forearms\n",
      "Abdominals https://musclewiki.com/Kettlebells/Male/Abdominals\n",
      "Abdominals https://musclewiki.com/Stretches/Male/Abdominals\n",
      "Abdominals https://musclewiki.com/Barbell/Male/Abdominals\n",
      "Abdominals https://musclewiki.com/Bodyweight/Male/Abdominals\n",
      "Abdominals https://musclewiki.com/Cables/Male/Abdominals\n",
      "No Data\n",
      "Abdominals https://musclewiki.com/Dumbbells/Male/Abdominals\n",
      "No Data\n",
      "Quads https://musclewiki.com/Cables/Male/Quads\n",
      "Quads https://musclewiki.com/Dumbbells/Male/Quads\n",
      "Quads https://musclewiki.com/Barbell/Male/Quads\n",
      "Quads https://musclewiki.com/Kettlebells/Male/Quads\n",
      "Quads https://musclewiki.com/Bodyweight/Male/Quads\n",
      "Quads https://musclewiki.com/Stretches/Male/Quads\n",
      "Calves https://musclewiki.com/Barbell/Male/Calves\n",
      "Calves https://musclewiki.com/Dumbbells/Male/Calves\n",
      "No Data\n",
      "Calves https://musclewiki.com/Kettlebells/Male/Calves\n",
      "Calves https://musclewiki.com/Stretches/Male/Calves\n",
      "Calves https://musclewiki.com/Bodyweight/Male/Calves\n",
      "Calves https://musclewiki.com/Cables/Male/Calves\n",
      "Traps_middle https://musclewiki.com/Dumbbells/Male/Traps_middle\n",
      "Traps_middle https://musclewiki.com/Cables/Male/Traps_middle\n",
      "Traps_middle https://musclewiki.com/Kettlebells/Male/Traps_middle\n",
      "Traps_middle https://musclewiki.com/Bodyweight/Male/Traps_middle\n",
      "Traps_middle https://musclewiki.com/Barbell/Male/Traps_middle\n",
      "Traps_middle https://musclewiki.com/Stretches/Male/Traps_middle\n",
      "Triceps https://musclewiki.com/Bodyweight/Male/Triceps\n",
      "Triceps https://musclewiki.com/Dumbbells/Male/Triceps\n",
      "Triceps https://musclewiki.com/Barbell/Male/Triceps\n",
      "Triceps https://musclewiki.com/Stretches/Male/Triceps\n",
      "Triceps https://musclewiki.com/Cables/Male/Triceps\n",
      "Triceps https://musclewiki.com/Kettlebells/Male/Triceps\n",
      "Lats https://musclewiki.com/Barbell/Male/Lats\n",
      "Lats https://musclewiki.com/Dumbbells/Male/Lats\n",
      "Lats https://musclewiki.com/Stretches/Male/Lats\n",
      "Lats https://musclewiki.com/Bodyweight/Male/Lats\n",
      "Lats https://musclewiki.com/Cables/Male/Lats\n",
      "Lats https://musclewiki.com/Kettlebells/Male/Lats\n",
      "Lowerback https://musclewiki.com/Dumbbells/Male/Lowerback\n",
      "No Data\n",
      "Lowerback https://musclewiki.com/Stretches/Male/Lowerback\n",
      "Lowerback https://musclewiki.com/Barbell/Male/Lowerback\n",
      "Lowerback https://musclewiki.com/Kettlebells/Male/Lowerback\n",
      "Lowerback https://musclewiki.com/Cables/Male/Lowerback\n",
      "Lowerback https://musclewiki.com/Bodyweight/Male/Lowerback\n",
      "Glutes https://musclewiki.com/Cables/Male/Glutes\n",
      "Glutes https://musclewiki.com/Stretches/Male/Glutes\n",
      "Glutes https://musclewiki.com/Dumbbells/Male/Glutes\n",
      "No Data\n",
      "Glutes https://musclewiki.com/Kettlebells/Male/Glutes\n",
      "Glutes https://musclewiki.com/Barbell/Male/Glutes\n",
      "Glutes https://musclewiki.com/Bodyweight/Male/Glutes\n",
      "Hamstrings https://musclewiki.com/Dumbbells/Male/Hamstrings\n",
      "No Data\n",
      "Hamstrings https://musclewiki.com/Stretches/Male/Hamstrings\n",
      "Hamstrings https://musclewiki.com/Cables/Male/Hamstrings\n",
      "Hamstrings https://musclewiki.com/Barbell/Male/Hamstrings\n",
      "Hamstrings https://musclewiki.com/Kettlebells/Male/Hamstrings\n",
      "Hamstrings https://musclewiki.com/Bodyweight/Male/Hamstrings\n",
      "time: 47.9 s (started: 2022-04-14 03:35:21 +05:30)\n"
     ]
    }
   ],
   "source": [
    "r = requests.get(url)\n",
    "soup = BeautifulSoup(r.content, 'html.parser')\n",
    "r2 = requests.get(url2)\n",
    "soup2 = BeautifulSoup(r2.content, 'html.parser')\n",
    "s=str(soup2)\n",
    "regex='(?<=\\+gender\\+\"/).*?(?=;break)'\n",
    "test_list=re.findall(regex,s)\n",
    "res = list(map(lambda i: i[ : -1], test_list))\n",
    "del res[23]\n",
    "del res[22]\n",
    "body={}\n",
    "test=soup.find(id=\"muscle-map\")\n",
    "eq=['Stretches','Bodyweight','Barbell','Dumbbells','Kettlebells','Cables']\n",
    "for e in eq:\n",
    "    c=0\n",
    "    for i in test.find_all('img'):\n",
    "        if i['id']!='background':\n",
    "            if res[c] in body:\n",
    "                body[res[c]].append('https://musclewiki.com/'+e+'/Male/'+res[c])\n",
    "                body[res[c]]=list(set(body[res[c]]))\n",
    "            else:\n",
    "                body[res[c]]=['https://musclewiki.com/'+e+'/Male/'+res[c]]\n",
    "            c+=1\n",
    "dic={}\n",
    "def get_data(k,url):\n",
    "    r = requests.get(url)\n",
    "    soup = BeautifulSoup(r.content, 'html.parser')\n",
    "    try:\n",
    "        equip=soup.find('h2').text.strip()\n",
    "        h3=soup.find_all('h3')\n",
    "        steps=soup.find_all(\"ol\", class_='steps-list')\n",
    "        co=0\n",
    "        exe=[]\n",
    "        for h in h3:\n",
    "            newh=h.text.strip()\n",
    "            temp={}\n",
    "            temp[newh]=steps[co].text.strip()\n",
    "            exe.append(temp)\n",
    "            co+=1\n",
    "        if equip in dic:\n",
    "            if k in dic[equip]:\n",
    "                dic[equip][k]=dic[equip][k]+exe\n",
    "            else:\n",
    "                dic[equip][k]=exe\n",
    "        else:\n",
    "            dic[equip]={}\n",
    "            dic[equip][k]=exe\n",
    "    except:\n",
    "        print(\"No Data\")\n",
    "lis_keys=list(body.keys())\n",
    "for k in lis_keys:\n",
    "    for url in body[k]:\n",
    "        print(k,url)\n",
    "        get_data(k,url)"
   ]
  },
  {
   "cell_type": "code",
   "execution_count": null,
   "id": "senior-booking",
   "metadata": {},
   "outputs": [],
   "source": []
  },
  {
   "cell_type": "code",
   "execution_count": null,
   "id": "hidden-impression",
   "metadata": {},
   "outputs": [],
   "source": []
  },
  {
   "cell_type": "code",
   "execution_count": null,
   "id": "small-vertical",
   "metadata": {},
   "outputs": [],
   "source": []
  },
  {
   "cell_type": "code",
   "execution_count": null,
   "id": "insured-raise",
   "metadata": {},
   "outputs": [],
   "source": []
  },
  {
   "cell_type": "code",
   "execution_count": null,
   "id": "opening-richardson",
   "metadata": {},
   "outputs": [],
   "source": []
  },
  {
   "cell_type": "code",
   "execution_count": null,
   "id": "overhead-failure",
   "metadata": {},
   "outputs": [],
   "source": []
  },
  {
   "cell_type": "code",
   "execution_count": 153,
   "id": "first-kingdom",
   "metadata": {},
   "outputs": [
    {
     "name": "stdout",
     "output_type": "stream",
     "text": [
      "time: 3.72 ms (started: 2022-04-14 01:47:16 +05:30)\n"
     ]
    }
   ],
   "source": [
    "with open('data.json', 'r') as fp:\n",
    "    dic2 = json.load(fp)"
   ]
  },
  {
   "cell_type": "code",
   "execution_count": 154,
   "id": "hindu-original",
   "metadata": {},
   "outputs": [
    {
     "name": "stdout",
     "output_type": "stream",
     "text": [
      "time: 615 µs (started: 2022-04-14 01:47:35 +05:30)\n"
     ]
    }
   ],
   "source": [
    "def Merge(dict1, dict2):\n",
    "    res = {**dict1, **dict2}\n",
    "    return res"
   ]
  },
  {
   "cell_type": "code",
   "execution_count": 156,
   "id": "mysterious-librarian",
   "metadata": {},
   "outputs": [
    {
     "name": "stdout",
     "output_type": "stream",
     "text": [
      "time: 417 µs (started: 2022-04-14 01:48:08 +05:30)\n"
     ]
    }
   ],
   "source": [
    "dic3 = Merge(dic, dic2[0])"
   ]
  },
  {
   "cell_type": "code",
   "execution_count": 157,
   "id": "minute-impact",
   "metadata": {},
   "outputs": [
    {
     "data": {
      "text/plain": [
       "dict_keys(['Barbell', 'Dumbbells', 'Stretches', 'Cables', 'Kettlebells', 'Bodyweight', 'Cable', 'Lever (plate loaded)', 'Lever (selectorized)', 'Weighted', 'Body Weight', 'Stretch', 'Suspended', 'Band Resistive', 'Isometric', 'Dumbbell', 'Sled', 'Smith', 'Assisted', 'Band-assisted', 'Self-assisted', 'Sled (selectorized)', 'Sled (plate loaded)', 'Assisted (machine)', 'Assisted (partner)', 'Suspension', 'Plyometric', 'Stretches for', 'for', 'See most  above', 'Dynamic Stretch', 'Cable ()', 'Lever'])"
      ]
     },
     "execution_count": 157,
     "metadata": {},
     "output_type": "execute_result"
    },
    {
     "name": "stdout",
     "output_type": "stream",
     "text": [
      "time: 6.39 ms (started: 2022-04-14 01:48:15 +05:30)\n"
     ]
    }
   ],
   "source": [
    "dic3.keys()"
   ]
  },
  {
   "cell_type": "code",
   "execution_count": null,
   "id": "medical-encoding",
   "metadata": {},
   "outputs": [],
   "source": []
  }
 ],
 "metadata": {
  "kernelspec": {
   "display_name": "Python 3",
   "language": "python",
   "name": "python3"
  },
  "language_info": {
   "codemirror_mode": {
    "name": "ipython",
    "version": 3
   },
   "file_extension": ".py",
   "mimetype": "text/x-python",
   "name": "python",
   "nbconvert_exporter": "python",
   "pygments_lexer": "ipython3",
   "version": "3.9.7"
  }
 },
 "nbformat": 4,
 "nbformat_minor": 5
}
